{
 "cells": [
  {
   "cell_type": "markdown",
   "metadata": {},
   "source": [
    "## 실습 과제1: NumPy를 활용한 행렬 변형 실습\n",
    "### 문제 1: 난수 행렬 생성\n",
    "N = 6과 M = 5로 설정하고, 0과 1 사이의 난수를 사용하여 (N, M) 형태의 행렬 A를 생성하세요.\n",
    "힌트: np.random.rand() 함수를 사용하세요."
   ]
  },
  {
   "cell_type": "code",
   "execution_count": 1,
   "metadata": {},
   "outputs": [
    {
     "name": "stdout",
     "output_type": "stream",
     "text": [
      "Help on method rand in module numpy.random.mtrand:\n",
      "\n",
      "rand(*args) method of numpy.random.mtrand.RandomState instance\n",
      "    rand(d0, d1, ..., dn)\n",
      "    \n",
      "    Random values in a given shape.\n",
      "    \n",
      "    .. note::\n",
      "        This is a convenience function for users porting code from Matlab,\n",
      "        and wraps `random_sample`. That function takes a\n",
      "        tuple to specify the size of the output, which is consistent with\n",
      "        other NumPy functions like `numpy.zeros` and `numpy.ones`.\n",
      "    \n",
      "    Create an array of the given shape and populate it with\n",
      "    random samples from a uniform distribution\n",
      "    over ``[0, 1)``.\n",
      "    \n",
      "    Parameters\n",
      "    ----------\n",
      "    d0, d1, ..., dn : int, optional\n",
      "        The dimensions of the returned array, must be non-negative.\n",
      "        If no argument is given a single Python float is returned.\n",
      "    \n",
      "    Returns\n",
      "    -------\n",
      "    out : ndarray, shape ``(d0, d1, ..., dn)``\n",
      "        Random values.\n",
      "    \n",
      "    See Also\n",
      "    --------\n",
      "    random\n",
      "    \n",
      "    Examples\n",
      "    --------\n",
      "    >>> np.random.rand(3,2)\n",
      "    array([[ 0.14022471,  0.96360618],  #random\n",
      "           [ 0.37601032,  0.25528411],  #random\n",
      "           [ 0.49313049,  0.94909878]]) #random\n",
      "\n"
     ]
    }
   ],
   "source": [
    "import numpy as np\n",
    "\n",
    "help(np.random.rand)"
   ]
  },
  {
   "cell_type": "code",
   "execution_count": null,
   "metadata": {},
   "outputs": [],
   "source": [
    "## with\n",
    "np.random.random()"
   ]
  },
  {
   "cell_type": "code",
   "execution_count": 6,
   "metadata": {},
   "outputs": [],
   "source": [
    "def desc(A):\n",
    "  print(A.shape, A.size, A.dtype)"
   ]
  },
  {
   "cell_type": "code",
   "execution_count": 10,
   "metadata": {},
   "outputs": [],
   "source": [
    "def desc2(A):\n",
    "  print(np.min(A), np.max(A), np.sum(A), np.mean(A), np.std(A))"
   ]
  },
  {
   "cell_type": "code",
   "execution_count": 11,
   "metadata": {},
   "outputs": [
    {
     "name": "stdout",
     "output_type": "stream",
     "text": [
      "(6, 5) 30 float64\n",
      "0.06984762946102674 0.9983106109829315 17.63211145578212 0.5877370485260707 0.27528002233088095\n"
     ]
    }
   ],
   "source": [
    "N, M = 6, 5\n",
    "# A = np.array([np.random.rand() for _ in range(N * M)])\n",
    "# A = A.reshape((N, M))\n",
    "# A = np.random.random((N, M))\n",
    "A = np.random.rand(N, M)\n",
    "A\n",
    "#데이터 수가 아주 많아질 수 있기 때문에 아래와 같이 나타내자\n",
    "desc(A)\n",
    "desc2(A)"
   ]
  },
  {
   "cell_type": "markdown",
   "metadata": {},
   "source": [
    "### 문제 2: 새로운 축 추가\n",
    "행렬 A에 np.newaxis를 사용하여 새로운 축을 추가하고, 결과를 B에 저장하세요. B의 형태는 (N, 1, M)이 되어야 합니다."
   ]
  },
  {
   "cell_type": "code",
   "execution_count": 12,
   "metadata": {},
   "outputs": [
    {
     "name": "stdout",
     "output_type": "stream",
     "text": [
      "(1, 6, 1, 1, 5) 30 float64\n"
     ]
    }
   ],
   "source": [
    "B = A.reshape(1, 6, 1, 1, 5)\n",
    "desc(B)"
   ]
  },
  {
   "cell_type": "code",
   "execution_count": 13,
   "metadata": {},
   "outputs": [
    {
     "name": "stdout",
     "output_type": "stream",
     "text": [
      "[[[0.62096381 0.22894858 0.70128852 0.99831061 0.55847207]]\n",
      "\n",
      " [[0.66695725 0.57402442 0.36701152 0.15992599 0.50043268]]\n",
      "\n",
      " [[0.8474886  0.59583203 0.77523947 0.3894421  0.76652293]]\n",
      "\n",
      " [[0.27940584 0.75537239 0.95455347 0.10914243 0.55643618]]\n",
      "\n",
      " [[0.89166498 0.7358952  0.78652621 0.95249818 0.81309716]]\n",
      "\n",
      " [[0.09840438 0.97692217 0.54903023 0.35245445 0.06984763]]]\n"
     ]
    },
    {
     "data": {
      "text/plain": [
       "(6, 1, 5)"
      ]
     },
     "execution_count": 13,
     "metadata": {},
     "output_type": "execute_result"
    }
   ],
   "source": [
    "B = A[:, np.newaxis, :]\n",
    "# B = A.reshape(6, 1, 5)\n",
    "# B = A[:, None, :]\n",
    "print(B)\n",
    "B.shape"
   ]
  },
  {
   "cell_type": "markdown",
   "metadata": {},
   "source": [
    "### 문제 3: 슬라이싱을 이용한 특정 요소 변경\n",
    "행렬 B에서 세 번째 행의 모든 열을 슬라이싱하여 값을 0.3으로 변경하세요."
   ]
  },
  {
   "cell_type": "code",
   "execution_count": null,
   "metadata": {},
   "outputs": [
    {
     "name": "stdout",
     "output_type": "stream",
     "text": [
      "[[[0.62096381 0.22894858 0.70128852 0.99831061 0.55847207]]\n",
      "\n",
      " [[0.66695725 0.57402442 0.36701152 0.15992599 0.50043268]]\n",
      "\n",
      " [[0.3        0.3        0.3        0.3        0.3       ]]\n",
      "\n",
      " [[0.27940584 0.75537239 0.95455347 0.10914243 0.55643618]]\n",
      "\n",
      " [[0.89166498 0.7358952  0.78652621 0.95249818 0.81309716]]\n",
      "\n",
      " [[0.09840438 0.97692217 0.54903023 0.35245445 0.06984763]]]\n"
     ]
    }
   ],
   "source": [
    "B[2, :] = 0.3\n",
    "# B2 = B[2, :, :]\n",
    "# B2[:] = 0.3 #사본아니고 뷰를 제공\n",
    "print(B)"
   ]
  },
  {
   "cell_type": "markdown",
   "metadata": {},
   "source": [
    "### 문제 4: 축 위치를 다르게 설정하여 새로운 행렬 생성\n",
    "np.newaxis를 사용하여 A의 형태를 (1, N, M)로 변형한 결과를 C에 저장하고, (N, M, 1)로 변형한 결과를 D에 저장하세요. 각 행렬의 형태를 출력하여 확인하세요."
   ]
  },
  {
   "cell_type": "code",
   "execution_count": 15,
   "metadata": {},
   "outputs": [
    {
     "name": "stdout",
     "output_type": "stream",
     "text": [
      "(1, 6, 5) 30 float64\n",
      "[[[0.62096381 0.22894858 0.70128852 0.99831061 0.55847207]\n",
      "  [0.66695725 0.57402442 0.36701152 0.15992599 0.50043268]\n",
      "  [0.3        0.3        0.3        0.3        0.3       ]\n",
      "  [0.27940584 0.75537239 0.95455347 0.10914243 0.55643618]\n",
      "  [0.89166498 0.7358952  0.78652621 0.95249818 0.81309716]\n",
      "  [0.09840438 0.97692217 0.54903023 0.35245445 0.06984763]]]\n",
      "(6, 5, 1) 30 float64\n",
      "[[[0.62096381]\n",
      "  [0.22894858]\n",
      "  [0.70128852]\n",
      "  [0.99831061]\n",
      "  [0.55847207]]\n",
      "\n",
      " [[0.66695725]\n",
      "  [0.57402442]\n",
      "  [0.36701152]\n",
      "  [0.15992599]\n",
      "  [0.50043268]]\n",
      "\n",
      " [[0.3       ]\n",
      "  [0.3       ]\n",
      "  [0.3       ]\n",
      "  [0.3       ]\n",
      "  [0.3       ]]\n",
      "\n",
      " [[0.27940584]\n",
      "  [0.75537239]\n",
      "  [0.95455347]\n",
      "  [0.10914243]\n",
      "  [0.55643618]]\n",
      "\n",
      " [[0.89166498]\n",
      "  [0.7358952 ]\n",
      "  [0.78652621]\n",
      "  [0.95249818]\n",
      "  [0.81309716]]\n",
      "\n",
      " [[0.09840438]\n",
      "  [0.97692217]\n",
      "  [0.54903023]\n",
      "  [0.35245445]\n",
      "  [0.06984763]]]\n"
     ]
    }
   ],
   "source": [
    "C = A[np.newaxis, :, :]\n",
    "D = A[:, : , np.newaxis]\n",
    "desc(C)\n",
    "print(C)\n",
    "desc(D)\n",
    "print(D)"
   ]
  },
  {
   "cell_type": "markdown",
   "metadata": {},
   "source": [
    "### 문제 5: 슬라이싱을 통해 부분 행렬 변경\n",
    "행렬 D에서 마지막 세 행의 모든 요소를 0.8로 변경하세요."
   ]
  },
  {
   "cell_type": "code",
   "execution_count": null,
   "metadata": {},
   "outputs": [
    {
     "name": "stdout",
     "output_type": "stream",
     "text": [
      "[[[0.33001713]\n",
      "  [0.97960202]\n",
      "  [0.76728699]\n",
      "  [0.08952685]\n",
      "  [0.48227822]]\n",
      "\n",
      " [[0.46289615]\n",
      "  [0.47484708]\n",
      "  [0.68147691]\n",
      "  [0.59053027]\n",
      "  [0.49312402]]\n",
      "\n",
      " [[0.3       ]\n",
      "  [0.3       ]\n",
      "  [0.3       ]\n",
      "  [0.3       ]\n",
      "  [0.3       ]]\n",
      "\n",
      " [[0.8       ]\n",
      "  [0.8       ]\n",
      "  [0.8       ]\n",
      "  [0.8       ]\n",
      "  [0.8       ]]\n",
      "\n",
      " [[0.8       ]\n",
      "  [0.8       ]\n",
      "  [0.8       ]\n",
      "  [0.8       ]\n",
      "  [0.8       ]]\n",
      "\n",
      " [[0.8       ]\n",
      "  [0.8       ]\n",
      "  [0.8       ]\n",
      "  [0.8       ]\n",
      "  [0.8       ]]]\n"
     ]
    }
   ],
   "source": [
    "# D[3: , : , :] = 0.8\n",
    "D[:2:-1, : , :] = 0.8\n",
    "print(D)"
   ]
  }
 ],
 "metadata": {
  "kernelspec": {
   "display_name": "Python 3",
   "language": "python",
   "name": "python3"
  },
  "language_info": {
   "codemirror_mode": {
    "name": "ipython",
    "version": 3
   },
   "file_extension": ".py",
   "mimetype": "text/x-python",
   "name": "python",
   "nbconvert_exporter": "python",
   "pygments_lexer": "ipython3",
   "version": "3.9.13"
  }
 },
 "nbformat": 4,
 "nbformat_minor": 2
}
