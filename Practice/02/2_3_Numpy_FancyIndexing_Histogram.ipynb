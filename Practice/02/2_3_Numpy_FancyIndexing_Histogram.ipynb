{
 "cells": [
  {
   "cell_type": "markdown",
   "metadata": {},
   "source": [
    "## 과제3: 정규분포 난수로 히스토그램 만들기 (팬시 인덱싱과 브로드캐스팅 활용)\n",
    "- 목표: 난수를 생성하고, 직접 구간에 속하는 인덱스를 계산하여 히스토그램을 생성. np.searchsorted를 사용하지 않고 각 값이 어느 구간에 속하는지 확인."
   ]
  },
  {
   "cell_type": "markdown",
   "metadata": {},
   "source": [
    "### 구현 순서:\n",
    "\n",
    "1. 난수 생성:\n",
    "\n",
    "평균이 0, 표준편차가 1인 정규분포에서 난수 10,000개를 생성하여 data 배열에 저장."
   ]
  },
  {
   "cell_type": "code",
   "execution_count": 2,
   "metadata": {},
   "outputs": [],
   "source": [
    "import numpy as np"
   ]
  },
  {
   "cell_type": "code",
   "execution_count": 3,
   "metadata": {},
   "outputs": [
    {
     "data": {
      "text/plain": [
       "array([-1.47016206,  1.05568771, -1.36053808, -0.73772256,  0.10438823,\n",
       "        1.85627766, -0.0310968 ,  0.7369452 , -0.89443434, -0.88482006])"
      ]
     },
     "execution_count": 3,
     "metadata": {},
     "output_type": "execute_result"
    }
   ],
   "source": [
    "data = np.random.normal(0, 1, 10000)\n",
    "data[:10]"
   ]
  },
  {
   "cell_type": "markdown",
   "metadata": {},
   "source": [
    "2. 구간 설정:\n",
    "\n",
    "-10에서 10까지 20개의 구간을 균등하게 나누어 bins 배열.\n",
    "이 구간들은 히스토그램의 각 구간 경계."
   ]
  },
  {
   "cell_type": "code",
   "execution_count": 4,
   "metadata": {},
   "outputs": [
    {
     "data": {
      "text/plain": [
       "array([-10.,  -9.,  -8.,  -7.,  -6.,  -5.,  -4.,  -3.,  -2.,  -1.,   0.,\n",
       "         1.,   2.,   3.,   4.,   5.,   6.,   7.,   8.,   9.,  10.])"
      ]
     },
     "execution_count": 4,
     "metadata": {},
     "output_type": "execute_result"
    }
   ],
   "source": [
    "bins = np.linspace(-10, 10, 21)\n",
    "bins"
   ]
  },
  {
   "cell_type": "markdown",
   "metadata": {},
   "source": [
    "3. 구간 인덱스 계산:\n",
    "\n",
    "data의 각 값이 어느 구간에 속하는지 직접 계산하여 구간 인덱스 배열 indices에 저장.\n",
    "예를 들어, data의 값이 특정 구간에 속하면 indices 배열에 그 구간 인덱스를 기록합니다.\n",
    "이 과정에서 브로드캐스팅과 팬시 인덱싱을 활용하여 효율적으로 구간 인덱스를 계산."
   ]
  },
  {
   "cell_type": "code",
   "execution_count": 31,
   "metadata": {},
   "outputs": [
    {
     "data": {
      "text/plain": [
       "array([ 9, 12,  9, ..., 10, 10, 11])"
      ]
     },
     "execution_count": 31,
     "metadata": {},
     "output_type": "execute_result"
    }
   ],
   "source": [
    "within_bin = (data[:, np.newaxis] >= bins[:-1]) & (data[:, np.newaxis] < bins[1:])\n",
    "within_bin.shape\n",
    "indexes = np.argmax(within_bin, axis=1) + 1\n",
    "indexes"
   ]
  },
  {
   "cell_type": "code",
   "execution_count": 28,
   "metadata": {},
   "outputs": [
    {
     "data": {
      "text/plain": [
       "array([ 9, 12,  9, ..., 10, 10, 11])"
      ]
     },
     "execution_count": 28,
     "metadata": {},
     "output_type": "execute_result"
    }
   ],
   "source": [
    "indexes = np.digitize(data, bins)\n",
    "indexes"
   ]
  },
  {
   "cell_type": "code",
   "execution_count": 22,
   "metadata": {},
   "outputs": [
    {
     "data": {
      "text/plain": [
       "[(np.float64(-10.0), np.float64(-9.0)),\n",
       " (np.float64(-9.0), np.float64(-8.0)),\n",
       " (np.float64(-8.0), np.float64(-7.0)),\n",
       " (np.float64(-7.0), np.float64(-6.0)),\n",
       " (np.float64(-6.0), np.float64(-5.0)),\n",
       " (np.float64(-5.0), np.float64(-4.0)),\n",
       " (np.float64(-4.0), np.float64(-3.0)),\n",
       " (np.float64(-3.0), np.float64(-2.0)),\n",
       " (np.float64(-2.0), np.float64(-1.0)),\n",
       " (np.float64(-1.0), np.float64(0.0)),\n",
       " (np.float64(0.0), np.float64(1.0)),\n",
       " (np.float64(1.0), np.float64(2.0)),\n",
       " (np.float64(2.0), np.float64(3.0)),\n",
       " (np.float64(3.0), np.float64(4.0)),\n",
       " (np.float64(4.0), np.float64(5.0)),\n",
       " (np.float64(5.0), np.float64(6.0)),\n",
       " (np.float64(6.0), np.float64(7.0)),\n",
       " (np.float64(7.0), np.float64(8.0)),\n",
       " (np.float64(8.0), np.float64(9.0)),\n",
       " (np.float64(9.0), np.float64(10.0))]"
      ]
     },
     "execution_count": 22,
     "metadata": {},
     "output_type": "execute_result"
    }
   ],
   "source": [
    "list(zip(bins[:-1], bins[1:]))"
   ]
  },
  {
   "cell_type": "code",
   "execution_count": 30,
   "metadata": {},
   "outputs": [
    {
     "data": {
      "text/plain": [
       "array([ 9, 12,  9, ..., 10, 10, 11])"
      ]
     },
     "execution_count": 30,
     "metadata": {},
     "output_type": "execute_result"
    }
   ],
   "source": [
    "indices = np.sum(data[:, np.newaxis] > bins, axis=1)\n",
    "indices"
   ]
  },
  {
   "cell_type": "markdown",
   "metadata": {},
   "source": [
    "4. 누적 카운팅:\n",
    "\n",
    "구한 indices 값을 사용하여, 각 구간별로 카운트를 계산.\n",
    "팬시 인덱싱을 통해 indices에 해당하는 counts 위치에 1씩 누적."
   ]
  },
  {
   "cell_type": "code",
   "execution_count": 32,
   "metadata": {},
   "outputs": [
    {
     "data": {
      "text/plain": [
       "array([0.000e+00, 0.000e+00, 0.000e+00, 0.000e+00, 0.000e+00, 0.000e+00,\n",
       "       0.000e+00, 9.000e+00, 2.290e+02, 1.365e+03, 3.402e+03, 3.385e+03,\n",
       "       1.367e+03, 2.250e+02, 1.600e+01, 2.000e+00, 0.000e+00, 0.000e+00,\n",
       "       0.000e+00, 0.000e+00, 0.000e+00])"
      ]
     },
     "execution_count": 32,
     "metadata": {},
     "output_type": "execute_result"
    }
   ],
   "source": [
    "counts2 = np.zeros_like(bins)\n",
    "np.add.at(counts2, indexes, 1)\n",
    "counts2"
   ]
  },
  {
   "cell_type": "code",
   "execution_count": 33,
   "metadata": {},
   "outputs": [
    {
     "data": {
      "text/plain": [
       "array([0.000e+00, 0.000e+00, 0.000e+00, 0.000e+00, 0.000e+00, 0.000e+00,\n",
       "       0.000e+00, 9.000e+00, 2.290e+02, 1.365e+03, 3.402e+03, 3.385e+03,\n",
       "       1.367e+03, 2.250e+02, 1.600e+01, 2.000e+00, 0.000e+00, 0.000e+00,\n",
       "       0.000e+00, 0.000e+00, 0.000e+00])"
      ]
     },
     "execution_count": 33,
     "metadata": {},
     "output_type": "execute_result"
    }
   ],
   "source": [
    "counts = np.zeros_like(bins)\n",
    "np.add.at(counts, indices, 1)\n",
    "counts"
   ]
  },
  {
   "cell_type": "markdown",
   "metadata": {},
   "source": [
    "5. 결과 시각화:\n",
    "\n",
    "구간별 빈도수를 그래프로 시각화하여 히스토그램.\n",
    "bins와 counts를 사용하여 히스토그램이 올바르게 그려졌는지 확인."
   ]
  },
  {
   "cell_type": "code",
   "execution_count": 35,
   "metadata": {},
   "outputs": [
    {
     "data": {
      "text/plain": [
       "[<matplotlib.lines.Line2D at 0x29318ce97f0>]"
      ]
     },
     "execution_count": 35,
     "metadata": {},
     "output_type": "execute_result"
    },
    {
     "data": {
      "image/png": "[encoded data removed]",
      "text/plain": [
       "<Figure size 640x480 with 1 Axes>"
      ]
     },
     "metadata": {},
     "output_type": "display_data"
    }
   ],
   "source": [
    "import matplotlib.pyplot as plt\n",
    "plt.plot(bins, counts, drawstyle='steps')\n",
    "# plt.plot(bins, counts2, drawstyle='steps')"
   ]
  },
  {
   "cell_type": "code",
   "execution_count": 17,
   "metadata": {},
   "outputs": [
    {
     "data": {
      "text/plain": [
       "(array([  12.,  170.,  707., 1978., 2920., 2564., 1231.,  346.,   61.,\n",
       "          11.]),\n",
       " array([-3.68475339, -2.90693504, -2.12911668, -1.35129833, -0.57347997,\n",
       "         0.20433838,  0.98215673,  1.75997509,  2.53779344,  3.3156118 ,\n",
       "         4.09343015]),\n",
       " <BarContainer object of 10 artists>)"
      ]
     },
     "execution_count": 17,
     "metadata": {},
     "output_type": "execute_result"
    },
    {
     "data": {
      "image/png": "[encoded data removed]",
      "text/plain": [
       "<Figure size 640x480 with 1 Axes>"
      ]
     },
     "metadata": {},
     "output_type": "display_data"
    }
   ],
   "source": [
    "plt.hist(data)"
   ]
  }
 ],
 "metadata": {
  "kernelspec": {
   "display_name": "Python 3",
   "language": "python",
   "name": "python3"
  },
  "language_info": {
   "codemirror_mode": {
    "name": "ipython",
    "version": 3
   },
   "file_extension": ".py",
   "mimetype": "text/x-python",
   "name": "python",
   "nbconvert_exporter": "python",
   "pygments_lexer": "ipython3",
   "version": "3.9.13"
  }
 },
 "nbformat": 4,
 "nbformat_minor": 2
}
